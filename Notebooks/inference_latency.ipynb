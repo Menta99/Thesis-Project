{
 "cells": [
  {
   "cell_type": "code",
   "execution_count": 1,
   "metadata": {
    "collapsed": true
   },
   "outputs": [
    {
     "name": "stdout",
     "output_type": "stream",
     "text": [
      "1 Physical GPUs, 1 Logical GPUs\n"
     ]
    }
   ],
   "source": [
    "import copy\n",
    "import sys\n",
    "\n",
    "import pandas as pd\n",
    "import tensorflow as tf\n",
    "\n",
    "relative_path = '../'\n",
    "sys.path.append(relative_path)\n",
    "\n",
    "from Utils.trainer_utils import inference_latency\n",
    "from LatentCA.model import AutoEncoderDown2, NAFCA\n",
    "from NAFNet.model import NAFNet\n",
    "from Restormer.model import Restormer\n",
    "from ViTCA.model import ViTCA\n",
    "\n",
    "gpus = tf.config.list_physical_devices('GPU')\n",
    "if gpus:\n",
    "    try:\n",
    "        for gpu in gpus:\n",
    "            tf.config.experimental.set_memory_growth(gpu, True)\n",
    "        logical_gpus = tf.config.list_logical_devices('GPU')\n",
    "        print(len(gpus), \"Physical GPUs,\", len(logical_gpus), \"Logical GPUs\")\n",
    "    except RuntimeError as e:\n",
    "        print(e)"
   ]
  },
  {
   "cell_type": "code",
   "execution_count": 2,
   "outputs": [],
   "source": [
    "img_shape = (8, 32, 32, 3)\n",
    "runs = 10\n",
    "save_df = True"
   ],
   "metadata": {
    "collapsed": false
   }
  },
  {
   "cell_type": "code",
   "execution_count": 3,
   "outputs": [],
   "source": [
    "max_depth = 16\n",
    "num_down_sampling = 2\n",
    "cell_in_channels = cell_out_channels = max_depth\n",
    "cell_hidden_channels = 32\n",
    "pool_shape = (img_shape[0], img_shape[1] // (2 ** num_down_sampling), img_shape[1] // (2 ** num_down_sampling),\n",
    "              cell_in_channels + cell_out_channels + cell_hidden_channels)\n",
    "latent_shape = (img_shape[1] // (2 ** num_down_sampling), img_shape[1] // (2 ** num_down_sampling), max_depth)\n",
    "latent_params = {\n",
    "    'input_shape': img_shape,\n",
    "    'pool_shape': pool_shape,\n",
    "    'latent_shape': latent_shape,\n",
    "    'CAParams': None,\n",
    "    'Conv2DParams1': {\n",
    "        'filters': max_depth // 2,\n",
    "        'kernel_size': (3, 3),\n",
    "        'strides': (2, 2),\n",
    "        'padding': 'same',\n",
    "        'activation': 'swish',\n",
    "        'batch_normalization': True,\n",
    "        'dropout_rate': 0.0\n",
    "    },\n",
    "    'Conv2DParams2': {\n",
    "        'filters': max_depth,\n",
    "        'kernel_size': (3, 3),\n",
    "        'strides': (2, 2),\n",
    "        'padding': 'same',\n",
    "        'activation': 'swish',\n",
    "        'batch_normalization': True,\n",
    "        'dropout_rate': 0.0\n",
    "    },\n",
    "    'PassThroughParams1': {\n",
    "        'filters': max_depth // 2,\n",
    "        'kernel_size': (3, 3),\n",
    "        'strides': (2, 2),\n",
    "        'padding': 'same',\n",
    "        'activation': 'swish',\n",
    "        'batch_normalization': True,\n",
    "        'dropout_rate': 0.0\n",
    "    },\n",
    "    'Conv2DTransposeParams2': {\n",
    "        'filters': max_depth // 2,\n",
    "        'kernel_size': (3, 3),\n",
    "        'strides': (2, 2),\n",
    "        'padding': 'same',\n",
    "        'activation': 'swish',\n",
    "        'batch_normalization': True,\n",
    "        'dropout_rate': 0.0\n",
    "    },\n",
    "    'MixParams': {\n",
    "        'filters': max_depth // 2,\n",
    "        'kernel_size': (3, 3),\n",
    "        'strides': (1, 1),\n",
    "        'padding': 'same',\n",
    "        'activation': 'swish',\n",
    "        'batch_normalization': True,\n",
    "        'dropout_rate': 0.0\n",
    "    },\n",
    "    'Conv2DTransposeParams1': {\n",
    "        'filters': 3,\n",
    "        'kernel_size': (3, 3),\n",
    "        'strides': (2, 2),\n",
    "        'padding': 'same',\n",
    "        'activation': 'sigmoid',\n",
    "        'batch_normalization': True,\n",
    "        'dropout_rate': 0.0\n",
    "    }\n",
    "}\n",
    "latent_nafca_params = {\n",
    "    'class': NAFCA,\n",
    "    'localized_attention_neighbourhood': (3, 3),\n",
    "    'ffn_expand': 4,\n",
    "    'dropout': 0.1,\n",
    "    'embed_dim': 128,\n",
    "    'cell_in_channels': cell_in_channels,\n",
    "    'cell_out_channels': cell_out_channels,\n",
    "    'cell_hidden_channels': cell_hidden_channels\n",
    "}\n",
    "latent_vitca_params = {\n",
    "    'class': ViTCA,\n",
    "    'localized_attention_neighbourhood': (3, 3),\n",
    "    'patch_size': 1,\n",
    "    'pos_encoding_max_freq': 5,\n",
    "    'depth': 1,\n",
    "    'heads': 4,\n",
    "    'mlp_dim': 64,\n",
    "    'dropout': 0.0,\n",
    "    'embed_cells': True,\n",
    "    'embed_dim': 128,\n",
    "    'embed_dropout': 0.0,\n",
    "    'pool_shape': pool_shape,\n",
    "    'cell_in_channels': cell_in_channels,\n",
    "    'cell_out_channels': cell_out_channels,\n",
    "    'cell_hidden_channels': cell_hidden_channels\n",
    "}\n",
    "nafnet_params = {\n",
    "    'input_shape': img_shape,\n",
    "    'width': 64,\n",
    "    'enc_block_nums': [2, 2, 4, 8],\n",
    "    'middle_block_num': 12,\n",
    "    'dec_block_nums': [2, 2, 2, 2]\n",
    "}\n",
    "restormer_params = {\n",
    "    'input_shape': img_shape,\n",
    "    'out_channels': 3,\n",
    "    'dim': 48,\n",
    "    'num_blocks': [4, 6, 6, 8],\n",
    "    'num_refinement_blocks': 4,\n",
    "    'heads': [1, 2, 4, 8],\n",
    "    'ffn_expansion_factor': 2.66,\n",
    "    'bias': False\n",
    "}\n",
    "vitca_params = {\n",
    "    'input_shape': img_shape,\n",
    "    'localized_attention_neighbourhood': [3, 3],\n",
    "    'patch_size': 1,\n",
    "    'overlapping_patches': False,\n",
    "    'pos_encoding_method': 'vit_handcrafted',\n",
    "    'pos_encoding_basis': 'raw_xy',\n",
    "    'pos_encoding_max_freq': 5,\n",
    "    'depth': 1,\n",
    "    'heads': 4,\n",
    "    'mlp_dim': 64,\n",
    "    'dropout': 0.0,\n",
    "    'cell_init': 'constant',\n",
    "    'cell_in_channels': img_shape[-1],\n",
    "    'cell_out_channels': img_shape[-1],\n",
    "    'cell_hidden_channels': cell_hidden_channels,\n",
    "    'embed_cells': True,\n",
    "    'embed_dim': 128,\n",
    "    'embed_dropout': 0.0\n",
    "}\n",
    "latent_nafca_params_complete = copy.deepcopy(latent_params)\n",
    "latent_nafca_params_complete['CAParams'] = latent_nafca_params\n",
    "latent_vitca_params_complete = copy.deepcopy(latent_params)\n",
    "latent_vitca_params_complete['CAParams'] = latent_vitca_params"
   ],
   "metadata": {
    "collapsed": false
   }
  },
  {
   "cell_type": "code",
   "execution_count": 4,
   "outputs": [],
   "source": [
    "nafnet_model = NAFNet(nafnet_params)\n",
    "restormer_model = Restormer(restormer_params)\n",
    "vitca_model = ViTCA(vitca_params)\n",
    "latent_vitca_model = AutoEncoderDown2(latent_vitca_params_complete)\n",
    "latent_nafca_model = AutoEncoderDown2(latent_nafca_params_complete)"
   ],
   "metadata": {
    "collapsed": false
   }
  },
  {
   "cell_type": "code",
   "execution_count": 5,
   "outputs": [
    {
     "name": "stderr",
     "output_type": "stream",
     "text": [
      "100%|██████████| 11/11 [00:07<00:00,  1.52it/s]\n",
      "100%|██████████| 11/11 [00:12<00:00,  1.09s/it]\n",
      "100%|██████████| 11/11 [00:14<00:00,  1.36s/it]\n",
      "100%|██████████| 11/11 [00:14<00:00,  1.35s/it]\n",
      "100%|██████████| 11/11 [00:05<00:00,  1.94it/s]\n"
     ]
    }
   ],
   "source": [
    "results_nafnet = inference_latency(model=nafnet_model, batch_shape=img_shape, num_runs=runs, model_type='classic')\n",
    "results_restormer = inference_latency(model=restormer_model, batch_shape=img_shape, num_runs=runs,\n",
    "                                      model_type='classic')\n",
    "results_vitca = inference_latency(model=vitca_model, batch_shape=img_shape, num_runs=runs, model_type='nca')\n",
    "results_latent_vitca = inference_latency(model=latent_vitca_model, batch_shape=img_shape, num_runs=runs,\n",
    "                                         model_type='latent_nca')\n",
    "results_latent_nafca = inference_latency(model=latent_nafca_model, batch_shape=img_shape, num_runs=runs,\n",
    "                                         model_type='latent_nca')"
   ],
   "metadata": {
    "collapsed": false
   }
  },
  {
   "cell_type": "code",
   "execution_count": 6,
   "outputs": [
    {
     "data": {
      "text/plain": "     NAFNet  Restormer      ViTCA  LatentViTCA  LatentNAFCA\n0  251.7034   472.9456  1299.1456    1328.0122     507.4700\n1  195.6794   467.9062  1328.3472    1314.7542     509.1896\n2  269.3433   496.7693  1359.6918    1327.3633     508.3219\n3  248.1019   466.1780  1425.7241    1295.7735     504.5947\n4  254.7223   494.0667  1393.4280    1338.6052     511.2302\n5  265.2919   459.6468  1353.9108    1340.0266     513.1671\n6  268.4520   490.8461  1384.9556    1342.6717     510.4046\n7  251.7023   569.5162  1300.8810    1364.8035     508.9911\n8  255.8296   476.3361  1337.4935    1329.9342     505.4639\n9  238.6168   518.2731  1380.9676    1321.0919     508.7059",
      "text/html": "<div>\n<style scoped>\n    .dataframe tbody tr th:only-of-type {\n        vertical-align: middle;\n    }\n\n    .dataframe tbody tr th {\n        vertical-align: top;\n    }\n\n    .dataframe thead th {\n        text-align: right;\n    }\n</style>\n<table border=\"1\" class=\"dataframe\">\n  <thead>\n    <tr style=\"text-align: right;\">\n      <th></th>\n      <th>NAFNet</th>\n      <th>Restormer</th>\n      <th>ViTCA</th>\n      <th>LatentViTCA</th>\n      <th>LatentNAFCA</th>\n    </tr>\n  </thead>\n  <tbody>\n    <tr>\n      <th>0</th>\n      <td>251.7034</td>\n      <td>472.9456</td>\n      <td>1299.1456</td>\n      <td>1328.0122</td>\n      <td>507.4700</td>\n    </tr>\n    <tr>\n      <th>1</th>\n      <td>195.6794</td>\n      <td>467.9062</td>\n      <td>1328.3472</td>\n      <td>1314.7542</td>\n      <td>509.1896</td>\n    </tr>\n    <tr>\n      <th>2</th>\n      <td>269.3433</td>\n      <td>496.7693</td>\n      <td>1359.6918</td>\n      <td>1327.3633</td>\n      <td>508.3219</td>\n    </tr>\n    <tr>\n      <th>3</th>\n      <td>248.1019</td>\n      <td>466.1780</td>\n      <td>1425.7241</td>\n      <td>1295.7735</td>\n      <td>504.5947</td>\n    </tr>\n    <tr>\n      <th>4</th>\n      <td>254.7223</td>\n      <td>494.0667</td>\n      <td>1393.4280</td>\n      <td>1338.6052</td>\n      <td>511.2302</td>\n    </tr>\n    <tr>\n      <th>5</th>\n      <td>265.2919</td>\n      <td>459.6468</td>\n      <td>1353.9108</td>\n      <td>1340.0266</td>\n      <td>513.1671</td>\n    </tr>\n    <tr>\n      <th>6</th>\n      <td>268.4520</td>\n      <td>490.8461</td>\n      <td>1384.9556</td>\n      <td>1342.6717</td>\n      <td>510.4046</td>\n    </tr>\n    <tr>\n      <th>7</th>\n      <td>251.7023</td>\n      <td>569.5162</td>\n      <td>1300.8810</td>\n      <td>1364.8035</td>\n      <td>508.9911</td>\n    </tr>\n    <tr>\n      <th>8</th>\n      <td>255.8296</td>\n      <td>476.3361</td>\n      <td>1337.4935</td>\n      <td>1329.9342</td>\n      <td>505.4639</td>\n    </tr>\n    <tr>\n      <th>9</th>\n      <td>238.6168</td>\n      <td>518.2731</td>\n      <td>1380.9676</td>\n      <td>1321.0919</td>\n      <td>508.7059</td>\n    </tr>\n  </tbody>\n</table>\n</div>"
     },
     "execution_count": 6,
     "metadata": {},
     "output_type": "execute_result"
    }
   ],
   "source": [
    "df = pd.DataFrame(data={'NAFNet': results_nafnet, 'Restormer': results_restormer, 'ViTCA': results_vitca,\n",
    "                        'LatentViTCA': results_latent_vitca, 'LatentNAFCA': results_latent_nafca},\n",
    "                  columns=['NAFNet', 'Restormer', 'ViTCA', 'LatentViTCA', 'LatentNAFCA']) / 10 ** 6\n",
    "if save_df:\n",
    "    df.to_pickle('inference_latency-{}-{}.pkl'.format(img_shape, runs))\n",
    "df"
   ],
   "metadata": {
    "collapsed": false
   }
  },
  {
   "cell_type": "code",
   "execution_count": 7,
   "outputs": [
    {
     "name": "stdout",
     "output_type": "stream",
     "text": [
      "Mean elapsed time:\n",
      "NAFNet          249.94429\n",
      "Restormer       491.24841\n",
      "ViTCA          1356.45452\n",
      "LatentViTCA    1330.30363\n",
      "LatentNAFCA     508.75390\n",
      "dtype: float64\n"
     ]
    }
   ],
   "source": [
    "print('Mean elapsed time:\\n{}'.format(df.mean()))"
   ],
   "metadata": {
    "collapsed": false
   }
  }
 ],
 "metadata": {
  "kernelspec": {
   "display_name": "Python 3",
   "language": "python",
   "name": "python3"
  },
  "language_info": {
   "codemirror_mode": {
    "name": "ipython",
    "version": 2
   },
   "file_extension": ".py",
   "mimetype": "text/x-python",
   "name": "python",
   "nbconvert_exporter": "python",
   "pygments_lexer": "ipython2",
   "version": "2.7.6"
  }
 },
 "nbformat": 4,
 "nbformat_minor": 0
}
